{
 "cells": [
  {
   "cell_type": "code",
   "execution_count": 2,
   "metadata": {},
   "outputs": [],
   "source": [
    "import pandas as pd\n",
    "import numpy as np\n",
    "import matplotlib.pyplot as plt"
   ]
  },
  {
   "cell_type": "code",
   "execution_count": 3,
   "metadata": {},
   "outputs": [],
   "source": [
    "df_count = pd.read_csv(\"./DSP_Re_CRC_Hcount.csv\")"
   ]
  },
  {
   "cell_type": "code",
   "execution_count": 4,
   "metadata": {},
   "outputs": [
    {
     "data": {
      "text/html": [
       "<div>\n",
       "<style scoped>\n",
       "    .dataframe tbody tr th:only-of-type {\n",
       "        vertical-align: middle;\n",
       "    }\n",
       "\n",
       "    .dataframe tbody tr th {\n",
       "        vertical-align: top;\n",
       "    }\n",
       "\n",
       "    .dataframe thead th {\n",
       "        text-align: right;\n",
       "    }\n",
       "</style>\n",
       "<table border=\"1\" class=\"dataframe\">\n",
       "  <thead>\n",
       "    <tr style=\"text-align: right;\">\n",
       "      <th></th>\n",
       "      <th>Unnamed: 0</th>\n",
       "      <th>CRC1_T</th>\n",
       "      <th>CRC1_T.1</th>\n",
       "      <th>CRC1_T.2</th>\n",
       "      <th>CRC1_T.3</th>\n",
       "      <th>CRC1_SP</th>\n",
       "      <th>CRC1_SP.1</th>\n",
       "      <th>CRC1_SP.2</th>\n",
       "      <th>CRC1_SP.3</th>\n",
       "      <th>CRC1_SD</th>\n",
       "      <th>...</th>\n",
       "      <th>CRC4_T.1</th>\n",
       "      <th>CRC4_T.2</th>\n",
       "      <th>CRC4_T.3</th>\n",
       "      <th>CRC4_SP</th>\n",
       "      <th>CRC4_SP.1</th>\n",
       "      <th>CRC4_SP.2</th>\n",
       "      <th>CRC4_SP.3</th>\n",
       "      <th>CRC4_SD</th>\n",
       "      <th>CRC4_SD.1</th>\n",
       "      <th>CRC4_SD.2</th>\n",
       "    </tr>\n",
       "  </thead>\n",
       "  <tbody>\n",
       "    <tr>\n",
       "      <th>0</th>\n",
       "      <td>HLA-F</td>\n",
       "      <td>261.044118</td>\n",
       "      <td>295.280541</td>\n",
       "      <td>275.574549</td>\n",
       "      <td>333.001639</td>\n",
       "      <td>247.256674</td>\n",
       "      <td>243.553362</td>\n",
       "      <td>259.972332</td>\n",
       "      <td>215.821855</td>\n",
       "      <td>168.400195</td>\n",
       "      <td>...</td>\n",
       "      <td>371.622908</td>\n",
       "      <td>381.658103</td>\n",
       "      <td>489.297863</td>\n",
       "      <td>341.547992</td>\n",
       "      <td>275.929626</td>\n",
       "      <td>403.122174</td>\n",
       "      <td>326.503180</td>\n",
       "      <td>250.341012</td>\n",
       "      <td>294.032278</td>\n",
       "      <td>357.044027</td>\n",
       "    </tr>\n",
       "    <tr>\n",
       "      <th>1</th>\n",
       "      <td>HLA-A</td>\n",
       "      <td>883.275785</td>\n",
       "      <td>1088.408114</td>\n",
       "      <td>942.677138</td>\n",
       "      <td>1225.780209</td>\n",
       "      <td>887.123493</td>\n",
       "      <td>879.148153</td>\n",
       "      <td>861.968325</td>\n",
       "      <td>718.621310</td>\n",
       "      <td>401.471693</td>\n",
       "      <td>...</td>\n",
       "      <td>2200.822407</td>\n",
       "      <td>1176.248997</td>\n",
       "      <td>2616.907721</td>\n",
       "      <td>1645.269243</td>\n",
       "      <td>1138.984539</td>\n",
       "      <td>1946.037819</td>\n",
       "      <td>1307.259195</td>\n",
       "      <td>747.819315</td>\n",
       "      <td>915.591607</td>\n",
       "      <td>1158.475978</td>\n",
       "    </tr>\n",
       "    <tr>\n",
       "      <th>2</th>\n",
       "      <td>APOA2</td>\n",
       "      <td>106.360233</td>\n",
       "      <td>94.018941</td>\n",
       "      <td>96.222182</td>\n",
       "      <td>88.043047</td>\n",
       "      <td>103.884886</td>\n",
       "      <td>107.951246</td>\n",
       "      <td>96.797886</td>\n",
       "      <td>106.716464</td>\n",
       "      <td>114.374898</td>\n",
       "      <td>...</td>\n",
       "      <td>105.553336</td>\n",
       "      <td>106.772184</td>\n",
       "      <td>109.213867</td>\n",
       "      <td>94.911221</td>\n",
       "      <td>104.928863</td>\n",
       "      <td>94.742716</td>\n",
       "      <td>104.429024</td>\n",
       "      <td>120.474914</td>\n",
       "      <td>106.127073</td>\n",
       "      <td>109.514620</td>\n",
       "    </tr>\n",
       "    <tr>\n",
       "      <th>3</th>\n",
       "      <td>CD38</td>\n",
       "      <td>88.669236</td>\n",
       "      <td>69.241307</td>\n",
       "      <td>70.229771</td>\n",
       "      <td>70.949555</td>\n",
       "      <td>93.588898</td>\n",
       "      <td>97.454701</td>\n",
       "      <td>91.753773</td>\n",
       "      <td>94.164877</td>\n",
       "      <td>105.989139</td>\n",
       "      <td>...</td>\n",
       "      <td>80.060915</td>\n",
       "      <td>87.342460</td>\n",
       "      <td>84.329358</td>\n",
       "      <td>102.188052</td>\n",
       "      <td>107.685862</td>\n",
       "      <td>84.321112</td>\n",
       "      <td>92.741847</td>\n",
       "      <td>107.309986</td>\n",
       "      <td>129.056028</td>\n",
       "      <td>100.468568</td>\n",
       "    </tr>\n",
       "    <tr>\n",
       "      <th>4</th>\n",
       "      <td>IL1RL1</td>\n",
       "      <td>103.906689</td>\n",
       "      <td>83.295202</td>\n",
       "      <td>77.000816</td>\n",
       "      <td>87.660556</td>\n",
       "      <td>115.018874</td>\n",
       "      <td>104.510321</td>\n",
       "      <td>90.414705</td>\n",
       "      <td>113.530277</td>\n",
       "      <td>128.510415</td>\n",
       "      <td>...</td>\n",
       "      <td>98.138925</td>\n",
       "      <td>105.079946</td>\n",
       "      <td>114.312979</td>\n",
       "      <td>105.374423</td>\n",
       "      <td>107.346549</td>\n",
       "      <td>119.765282</td>\n",
       "      <td>102.253492</td>\n",
       "      <td>142.371355</td>\n",
       "      <td>110.070251</td>\n",
       "      <td>112.215730</td>\n",
       "    </tr>\n",
       "  </tbody>\n",
       "</table>\n",
       "<p>5 rows × 93 columns</p>\n",
       "</div>"
      ],
      "text/plain": [
       "  Unnamed: 0      CRC1_T     CRC1_T.1    CRC1_T.2     CRC1_T.3     CRC1_SP  \\\n",
       "0      HLA-F  261.044118   295.280541  275.574549   333.001639  247.256674   \n",
       "1      HLA-A  883.275785  1088.408114  942.677138  1225.780209  887.123493   \n",
       "2      APOA2  106.360233    94.018941   96.222182    88.043047  103.884886   \n",
       "3       CD38   88.669236    69.241307   70.229771    70.949555   93.588898   \n",
       "4     IL1RL1  103.906689    83.295202   77.000816    87.660556  115.018874   \n",
       "\n",
       "    CRC1_SP.1   CRC1_SP.2   CRC1_SP.3     CRC1_SD  ...     CRC4_T.1  \\\n",
       "0  243.553362  259.972332  215.821855  168.400195  ...   371.622908   \n",
       "1  879.148153  861.968325  718.621310  401.471693  ...  2200.822407   \n",
       "2  107.951246   96.797886  106.716464  114.374898  ...   105.553336   \n",
       "3   97.454701   91.753773   94.164877  105.989139  ...    80.060915   \n",
       "4  104.510321   90.414705  113.530277  128.510415  ...    98.138925   \n",
       "\n",
       "      CRC4_T.2     CRC4_T.3      CRC4_SP    CRC4_SP.1    CRC4_SP.2  \\\n",
       "0   381.658103   489.297863   341.547992   275.929626   403.122174   \n",
       "1  1176.248997  2616.907721  1645.269243  1138.984539  1946.037819   \n",
       "2   106.772184   109.213867    94.911221   104.928863    94.742716   \n",
       "3    87.342460    84.329358   102.188052   107.685862    84.321112   \n",
       "4   105.079946   114.312979   105.374423   107.346549   119.765282   \n",
       "\n",
       "     CRC4_SP.3     CRC4_SD   CRC4_SD.1    CRC4_SD.2  \n",
       "0   326.503180  250.341012  294.032278   357.044027  \n",
       "1  1307.259195  747.819315  915.591607  1158.475978  \n",
       "2   104.429024  120.474914  106.127073   109.514620  \n",
       "3    92.741847  107.309986  129.056028   100.468568  \n",
       "4   102.253492  142.371355  110.070251   112.215730  \n",
       "\n",
       "[5 rows x 93 columns]"
      ]
     },
     "execution_count": 4,
     "metadata": {},
     "output_type": "execute_result"
    }
   ],
   "source": [
    "df_count.head()"
   ]
  },
  {
   "cell_type": "code",
   "execution_count": 5,
   "metadata": {},
   "outputs": [],
   "source": [
    "df_meta =pd.read_csv(\"MetaData_re_CRC_health_ST.csv\")"
   ]
  },
  {
   "cell_type": "code",
   "execution_count": 6,
   "metadata": {},
   "outputs": [
    {
     "data": {
      "text/html": [
       "<div>\n",
       "<style scoped>\n",
       "    .dataframe tbody tr th:only-of-type {\n",
       "        vertical-align: middle;\n",
       "    }\n",
       "\n",
       "    .dataframe tbody tr th {\n",
       "        vertical-align: top;\n",
       "    }\n",
       "\n",
       "    .dataframe thead th {\n",
       "        text-align: right;\n",
       "    }\n",
       "</style>\n",
       "<table border=\"1\" class=\"dataframe\">\n",
       "  <thead>\n",
       "    <tr style=\"text-align: right;\">\n",
       "      <th></th>\n",
       "      <th>sampleName</th>\n",
       "      <th>Segment_tags</th>\n",
       "      <th>LOT_Cancer_Transcriptome_Atlas</th>\n",
       "      <th>Indication</th>\n",
       "    </tr>\n",
       "  </thead>\n",
       "  <tbody>\n",
       "    <tr>\n",
       "      <th>0</th>\n",
       "      <td>CRC1_T</td>\n",
       "      <td>Tumor</td>\n",
       "      <td>HCTA22004</td>\n",
       "      <td>CRC</td>\n",
       "    </tr>\n",
       "    <tr>\n",
       "      <th>1</th>\n",
       "      <td>CRC1_T</td>\n",
       "      <td>Tumor</td>\n",
       "      <td>HCTA22004</td>\n",
       "      <td>CRC</td>\n",
       "    </tr>\n",
       "    <tr>\n",
       "      <th>2</th>\n",
       "      <td>CRC1_T</td>\n",
       "      <td>Tumor</td>\n",
       "      <td>HCTA22004</td>\n",
       "      <td>CRC</td>\n",
       "    </tr>\n",
       "    <tr>\n",
       "      <th>3</th>\n",
       "      <td>CRC1_T</td>\n",
       "      <td>Tumor</td>\n",
       "      <td>HCTA22004</td>\n",
       "      <td>CRC</td>\n",
       "    </tr>\n",
       "    <tr>\n",
       "      <th>4</th>\n",
       "      <td>CRC1_SP</td>\n",
       "      <td>Stroma_proximal</td>\n",
       "      <td>HCTA22004</td>\n",
       "      <td>CRC</td>\n",
       "    </tr>\n",
       "  </tbody>\n",
       "</table>\n",
       "</div>"
      ],
      "text/plain": [
       "  sampleName     Segment_tags LOT_Cancer_Transcriptome_Atlas Indication\n",
       "0     CRC1_T            Tumor                      HCTA22004        CRC\n",
       "1     CRC1_T            Tumor                      HCTA22004        CRC\n",
       "2     CRC1_T            Tumor                      HCTA22004        CRC\n",
       "3     CRC1_T            Tumor                      HCTA22004        CRC\n",
       "4    CRC1_SP  Stroma_proximal                      HCTA22004        CRC"
      ]
     },
     "execution_count": 6,
     "metadata": {},
     "output_type": "execute_result"
    }
   ],
   "source": [
    "df_meta.head()"
   ]
  },
  {
   "cell_type": "code",
   "execution_count": 7,
   "metadata": {},
   "outputs": [
    {
     "data": {
      "text/plain": [
       "Index(['Unnamed: 0', 'CRC1_T', 'CRC1_T.1', 'CRC1_T.2', 'CRC1_T.3', 'CRC1_SP',\n",
       "       'CRC1_SP.1', 'CRC1_SP.2', 'CRC1_SP.3', 'CRC1_SD', 'CRC1_SD.1',\n",
       "       'CRC1_SD.2', 'CRC1_SD.3', 'CRC2_T', 'CRC2_T.1', 'CRC2_T.2', 'CRC2_T.3',\n",
       "       'CRC2_SP', 'CRC3_T', 'CRC3_T.1', 'CRC3_T.2', 'CRC3_SP', 'CRC3_SP.1',\n",
       "       'CRC3_SP.2', 'CRC3_SP.3', 'CRC3_SD', 'CRC3_SD.1', 'CRC3_SD.2',\n",
       "       'CRC3_SD.3', 'H1_T', 'H1_T.1', 'H1_T.2', 'H1_T.3', 'H1_SP', 'H1_SP.1',\n",
       "       'H1_SP.2', 'H1_SP.3', 'H1_SD', 'H1_SD.1', 'H1_SD.2', 'H1_SD.3', 'H2_T',\n",
       "       'H2_T.1', 'H2_T.2', 'H2_T.3', 'H2_SP', 'H2_SP.1', 'H2_SP.2', 'H2_SP.3',\n",
       "       'H2_SD', 'H3_T', 'H3_T.1', 'H3_T.2', 'H3_T.3', 'H3_SP', 'H3_SP.1',\n",
       "       'H3_SP.2', 'H3_SP.3', 'H3_SD', 'H3_SD.1', 'H3_SD.2', 'H4_T', 'H4_T.1',\n",
       "       'H4_T.2', 'H4_T.3', 'H4_SP', 'H4_SP.1', 'H4_SP.2', 'H4_SP.3', 'H4_SD',\n",
       "       'H5_T', 'H5_T.1', 'H5_T.2', 'H5_T.3', 'H5_SP', 'H5_SP.1', 'H5_SP.2',\n",
       "       'H5_SP.3', 'H5_SD', 'H5_SD.1', 'H5_SD.2', 'H5_SD.3', 'CRC4_T',\n",
       "       'CRC4_T.1', 'CRC4_T.2', 'CRC4_T.3', 'CRC4_SP', 'CRC4_SP.1', 'CRC4_SP.2',\n",
       "       'CRC4_SP.3', 'CRC4_SD', 'CRC4_SD.1', 'CRC4_SD.2'],\n",
       "      dtype='object')"
      ]
     },
     "execution_count": 7,
     "metadata": {},
     "output_type": "execute_result"
    }
   ],
   "source": [
    "df_count.columns\n"
   ]
  },
  {
   "cell_type": "code",
   "execution_count": 8,
   "metadata": {},
   "outputs": [],
   "source": [
    "df_count[\"CRC1T\"]=(df_count['CRC1_T']+df_count['CRC1_T.1'] +df_count['CRC1_T.2']+ df_count['CRC1_T.3'] )/4"
   ]
  },
  {
   "cell_type": "code",
   "execution_count": 9,
   "metadata": {},
   "outputs": [],
   "source": [
    "df_count[\"CRC1SP\"]=(df_count['CRC1_SP']+df_count['CRC1_SP.1'] +df_count['CRC1_SP.2']+ df_count['CRC1_SP.3'] )/4"
   ]
  },
  {
   "cell_type": "code",
   "execution_count": 10,
   "metadata": {},
   "outputs": [],
   "source": [
    "df_count[\"CRC1SD\"]= (df_count['CRC1_SD']+df_count['CRC1_SD.1'] +df_count['CRC1_SD.2']+ df_count['CRC1_SD.3'] )/4"
   ]
  },
  {
   "cell_type": "code",
   "execution_count": 11,
   "metadata": {},
   "outputs": [],
   "source": [
    "df_count[\"CRC2T\"]=(df_count['CRC2_T']+df_count['CRC2_T.1'] +df_count['CRC2_T.2']+ df_count['CRC2_T.3'] )/4"
   ]
  },
  {
   "cell_type": "code",
   "execution_count": 12,
   "metadata": {},
   "outputs": [],
   "source": [
    "df_count[\"CRC2SP\"]=(df_count['CRC2_SP'])/1"
   ]
  },
  {
   "cell_type": "code",
   "execution_count": 13,
   "metadata": {},
   "outputs": [],
   "source": [
    "df_count[\"CRC3T\"]=(df_count['CRC3_T']+df_count['CRC3_T.1'] +df_count['CRC3_T.2'] )/3"
   ]
  },
  {
   "cell_type": "code",
   "execution_count": 14,
   "metadata": {},
   "outputs": [],
   "source": [
    "df_count[\"CRC3SP\"]=(df_count['CRC3_SP']+df_count['CRC3_SP.1'] +df_count['CRC3_SP.2'] +df_count['CRC3_SP.3'])/4"
   ]
  },
  {
   "cell_type": "code",
   "execution_count": 15,
   "metadata": {},
   "outputs": [],
   "source": [
    "df_count[\"CRC3SD\"]=(df_count['CRC3_SD']+df_count['CRC3_SD.1'] +df_count['CRC3_SD.2'] +df_count['CRC3_SD.3'])/4"
   ]
  },
  {
   "cell_type": "code",
   "execution_count": 16,
   "metadata": {},
   "outputs": [],
   "source": [
    "df_count[\"H1T\"]=(df_count[\"H1_T\"]  + df_count[\"H1_T.1\"] +df_count[\"H1_T.2\"]  +df_count[\"H1_T.3\"])/4"
   ]
  },
  {
   "cell_type": "code",
   "execution_count": 17,
   "metadata": {},
   "outputs": [],
   "source": [
    "df_count[\"H1SP\"]=(df_count[\"H1_SP\"]  + df_count[\"H1_SP.1\"] +df_count[\"H1_SP.2\"]  +df_count[\"H1_SP.3\"])/4"
   ]
  },
  {
   "cell_type": "code",
   "execution_count": 18,
   "metadata": {},
   "outputs": [],
   "source": [
    "df_count[\"H1SD\"]=(df_count[\"H1_SD\"]  + df_count[\"H1_SD.1\"] +df_count[\"H1_SD.2\"]  +df_count[\"H1_SD.3\"])/4"
   ]
  },
  {
   "cell_type": "code",
   "execution_count": 19,
   "metadata": {},
   "outputs": [],
   "source": [
    "df_count[\"H2T\"]=(df_count[\"H2_T\"]  + df_count[\"H2_T.1\"] +df_count[\"H2_T.2\"]  +df_count[\"H2_T.3\"])/4\n",
    "df_count[\"H2SP\"]=(df_count[\"H2_SP\"]  + df_count[\"H2_SP.1\"] +df_count[\"H2_SP.2\"]  +df_count[\"H2_SP.3\"])/4\n",
    "df_count[\"H2SD\"]=(df_count[\"H2_SD\"] )/1"
   ]
  },
  {
   "cell_type": "code",
   "execution_count": 20,
   "metadata": {},
   "outputs": [],
   "source": [
    "df_count[\"H3T\"]=(df_count[\"H3_T\"]  + df_count[\"H3_T.1\"] +df_count[\"H3_T.2\"]  +df_count[\"H3_T.3\"])/4\n",
    "df_count[\"H3SP\"]=(df_count[\"H3_SP\"]  + df_count[\"H3_SP.1\"] +df_count[\"H3_SP.2\"]  +df_count[\"H3_SP.3\"])/4\n",
    "df_count[\"H3SD\"]=(df_count[\"H3_SD\"] + df_count[\"H3_SD.1\"] +df_count[\"H3_SD.2\"] )/3"
   ]
  },
  {
   "cell_type": "code",
   "execution_count": 21,
   "metadata": {},
   "outputs": [],
   "source": [
    "df_count[\"H4T\"]=(df_count[\"H4_T\"]  + df_count[\"H4_T.1\"] +df_count[\"H4_T.2\"]  +df_count[\"H4_T.3\"])/4\n",
    "df_count[\"H4SP\"]=(df_count[\"H4_SP\"]  + df_count[\"H4_SP.1\"] +df_count[\"H4_SP.2\"]  +df_count[\"H4_SP.3\"])/4\n",
    "df_count[\"H4SD\"]=(df_count[\"H4_SD\"] )/1"
   ]
  },
  {
   "cell_type": "code",
   "execution_count": 22,
   "metadata": {},
   "outputs": [],
   "source": [
    "df_count[\"H5T\"]=(df_count[\"H5_T\"]  + df_count[\"H5_T.1\"] +df_count[\"H5_T.2\"]  +df_count[\"H5_T.3\"])/4\n",
    "df_count[\"H5SP\"]=(df_count[\"H5_SP\"]  + df_count[\"H5_SP.1\"] +df_count[\"H5_SP.2\"]  +df_count[\"H5_SP.3\"])/4\n",
    "df_count[\"H5SD\"]=(df_count[\"H5_SD\"] + df_count[\"H5_SD.1\"] +df_count[\"H5_SD.2\"] +df_count[\"H5_SD.3\"]  )/4"
   ]
  },
  {
   "cell_type": "code",
   "execution_count": 23,
   "metadata": {},
   "outputs": [],
   "source": [
    "df_count[\"CRC4T\"]=(df_count['CRC4_T']+df_count['CRC4_T.1'] +df_count['CRC4_T.2']+df_count[\"CRC4_T.3\"] )/4\n",
    "df_count[\"CRC4SP\"]=(df_count['CRC4_SP']+df_count['CRC4_SP.1'] +df_count['CRC4_SP.2'] +df_count['CRC4_SP.3'])/4\n",
    "df_count[\"CRC4SD\"]=(df_count['CRC4_SD']+df_count['CRC4_SD.1'] +df_count['CRC4_SD.2'] )/3"
   ]
  },
  {
   "cell_type": "code",
   "execution_count": 25,
   "metadata": {},
   "outputs": [
    {
     "data": {
      "text/plain": [
       "Index(['Unnamed: 0', 'CRC1_T', 'CRC1_T.1', 'CRC1_T.2', 'CRC1_T.3', 'CRC1_SP',\n",
       "       'CRC1_SP.1', 'CRC1_SP.2', 'CRC1_SP.3', 'CRC1_SD',\n",
       "       ...\n",
       "       'H3SD', 'H4T', 'H4SP', 'H4SD', 'H5T', 'H5SP', 'H5SD', 'CRC4T', 'CRC4SP',\n",
       "       'CRC4SD'],\n",
       "      dtype='object', length=119)"
      ]
     },
     "execution_count": 25,
     "metadata": {},
     "output_type": "execute_result"
    }
   ],
   "source": [
    "df_count.columns"
   ]
  },
  {
   "cell_type": "code",
   "execution_count": 26,
   "metadata": {},
   "outputs": [],
   "source": [
    "df_count.to_csv(\"AvergaedCounts.csv\", index =True)"
   ]
  },
  {
   "cell_type": "code",
   "execution_count": null,
   "metadata": {},
   "outputs": [],
   "source": []
  }
 ],
 "metadata": {
  "kernelspec": {
   "display_name": "Python 3",
   "language": "python",
   "name": "python3"
  },
  "language_info": {
   "codemirror_mode": {
    "name": "ipython",
    "version": 3
   },
   "file_extension": ".py",
   "mimetype": "text/x-python",
   "name": "python",
   "nbconvert_exporter": "python",
   "pygments_lexer": "ipython3",
   "version": "3.8.3"
  }
 },
 "nbformat": 4,
 "nbformat_minor": 4
}
